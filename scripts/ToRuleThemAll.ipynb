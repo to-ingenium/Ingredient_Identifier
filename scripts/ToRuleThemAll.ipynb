{
 "cells": [
  {
   "cell_type": "code",
   "execution_count": 5,
   "id": "cb61f2d8",
   "metadata": {},
   "outputs": [
    {
     "name": "stderr",
     "output_type": "stream",
     "text": [
      "WARNING:absl:Compiled the loaded model, but the compiled metrics have yet to be built. `model.compile_metrics` will be empty until you train or evaluate the model.\n",
      "f:\\Machine Learning\\Recipe_Recommender\\.venv\\Lib\\site-packages\\PIL\\Image.py:1043: UserWarning: Palette images with Transparency expressed in bytes should be converted to RGBA images\n",
      "  warnings.warn(\n"
     ]
    },
    {
     "name": "stdout",
     "output_type": "stream",
     "text": [
      "\u001b[1m1/1\u001b[0m \u001b[32m━━━━━━━━━━━━━━━━━━━━\u001b[0m\u001b[37m\u001b[0m \u001b[1m1s\u001b[0m 751ms/step\n",
      "banana\n"
     ]
    }
   ],
   "source": [
    "from tensorflow.keras.preprocessing import image\n",
    "from tensorflow.keras.models import load_model\n",
    "import json\n",
    "import numpy as np\n",
    "\n",
    "model = load_model('../models/food_ingredient_classifier_balanced.h5')\n",
    "\n",
    "with open('../models/class_indices.json') as f:\n",
    "    class_labels = list(json.load(f).keys())\n",
    "\n",
    "\n",
    "# preprocess new images before feeding it to the model\n",
    "\n",
    "def preprocess_images(img_path):\n",
    "    \n",
    "    img = image.load_img(img_path, target_size= (224,224))\n",
    "    img_array = image.img_to_array(img) / 255.0\n",
    "    img_array = np.expand_dims(img_array, axis = 0)\n",
    "\n",
    "    return img_array\n",
    "\n",
    "def predict_ingredient(img_path, class_labels = class_labels):\n",
    "    # Preprocess image\n",
    "    img_array = preprocess_images(img_path)\n",
    "    \n",
    "    # Get prediction\n",
    "    pred_probs = model.predict(img_array)[0]\n",
    "    predicted_idx = np.argmax(pred_probs)\n",
    "    predicted_class = class_labels[predicted_idx]\n",
    "    confidence = pred_probs[predicted_idx]\n",
    "    \n",
    "    return predicted_class, confidence\n",
    "\n",
    "\n",
    "test_path = '../data/Food-Ingredient-Recognition-1/manual_test/banana.png'\n",
    "\n",
    "results = predict_ingredient(test_path, class_labels)[0]\n",
    "print(results)"
   ]
  },
  {
   "cell_type": "code",
   "execution_count": 6,
   "id": "10449e1d",
   "metadata": {},
   "outputs": [
    {
     "data": {
      "text/plain": [
       "[(\"Grandma Hanrath'S Banana Breadfort Collins, Colorado  \",\n",
       "  'www.cookbooks.com/Recipe-Details.aspx?id=1072247'),\n",
       " (\"Phylis' Pineapple-Banana Salad\",\n",
       "  'www.cookbooks.com/Recipe-Details.aspx?id=682439'),\n",
       " ('Banana Bread', 'www.cookbooks.com/Recipe-Details.aspx?id=472490'),\n",
       " ('Banana Cream Pie', 'www.cookbooks.com/Recipe-Details.aspx?id=169407'),\n",
       " ('Banana Omelette', 'www.cookbooks.com/Recipe-Details.aspx?id=94099')]"
      ]
     },
     "execution_count": 6,
     "metadata": {},
     "output_type": "execute_result"
    }
   ],
   "source": [
    "import sqlite3 \n",
    "\n",
    "conn = sqlite3.connect('../database/recipes.db')\n",
    "\n",
    "conn.execute(\n",
    "    f'''\n",
    "    Select \n",
    "        r.title, r.link\n",
    "    from\n",
    "        recipes r \n",
    "    \n",
    "\n",
    "    WHERE\n",
    "        r.title like \"%{results}%\"\n",
    "LIMIT 5;\n",
    "    '''\n",
    ").fetchall()"
   ]
  },
  {
   "cell_type": "code",
   "execution_count": null,
   "id": "bb0724a1",
   "metadata": {},
   "outputs": [],
   "source": []
  }
 ],
 "metadata": {
  "kernelspec": {
   "display_name": "recipe-recommender",
   "language": "python",
   "name": "python3"
  },
  "language_info": {
   "codemirror_mode": {
    "name": "ipython",
    "version": 3
   },
   "file_extension": ".py",
   "mimetype": "text/x-python",
   "name": "python",
   "nbconvert_exporter": "python",
   "pygments_lexer": "ipython3",
   "version": "3.12.11"
  }
 },
 "nbformat": 4,
 "nbformat_minor": 5
}

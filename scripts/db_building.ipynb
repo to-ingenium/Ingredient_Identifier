{
 "cells": [
  {
   "cell_type": "code",
   "execution_count": 1,
   "id": "18498b7f",
   "metadata": {},
   "outputs": [],
   "source": [
    "import pandas as pd\n",
    "import numpy as np\n",
    "import ast\n",
    "\n",
    "df = pd.read_csv('Recipe_raw_csv/full_dataset.csv', index_col= 0, nrows = 15000)"
   ]
  },
  {
   "cell_type": "code",
   "execution_count": 2,
   "id": "fcadb77a",
   "metadata": {},
   "outputs": [],
   "source": [
    "def data_prep(csv_path, nrows = 20000):\n",
    "    '''Load and Process the source'''\n",
    "    \n",
    "    df = pd.read_csv(csv_path, index_col= 0, nrows = nrows) # Load data without \"Unnamed:0\"\n",
    "    \n",
    "    # preprocess our main column used in queries later\n",
    "    unwanted = {\"'\": '', '\"': '', ',': '', '\\n': ' ', '\\t': ' ', '\\r': ' '}\n",
    "    cleaned_list = []\n",
    "\n",
    "\n",
    "    for x in df['NER']:\n",
    "        ingredients = ast.literal_eval(x.replace('\\n', ''))\n",
    "        \n",
    "        # Clean each ingredient\n",
    "        processed = [\n",
    "            ing.translate(str.maketrans(unwanted))\n",
    "               .lower()\n",
    "               .replace(' ', '_')\n",
    "               .strip('_')\n",
    "            for ing in ingredients\n",
    "        ]\n",
    "        \n",
    "        # Join into single string\n",
    "        cleaned_list.append(' '.join(processed))\n",
    "            \n",
    "    df['NER'] = cleaned_list\n",
    "    \n",
    "    return df"
   ]
  },
  {
   "cell_type": "code",
   "execution_count": 3,
   "id": "f817d97d",
   "metadata": {},
   "outputs": [],
   "source": [
    "# df = data_prep('Recipe_raw_csv/full_dataset.csv', nrows= 20000)"
   ]
  },
  {
   "cell_type": "code",
   "execution_count": 4,
   "id": "9b335105",
   "metadata": {},
   "outputs": [],
   "source": [
    "import pandas as pd\n",
    "import sqlite3\n",
    "\n",
    "# Load the first 20,000 rows (replace with your actual CSV or DataFrame slice)\n",
    "df = data_prep('Recipe_raw_csv/full_dataset.csv', nrows= 20000)\n",
    "\n",
    "# Connect to SQLite\n",
    "conn = sqlite3.connect(\"recipes.db\")\n",
    "cur = conn.cursor()\n",
    "\n",
    "# Create base table\n",
    "cur.execute('''\n",
    "CREATE TABLE IF NOT EXISTS recipes (\n",
    "    id INTEGER PRIMARY KEY AUTOINCREMENT,\n",
    "    title TEXT,\n",
    "    ingredients TEXT,\n",
    "    directions TEXT,\n",
    "    link TEXT,\n",
    "    source TEXT,\n",
    "    ner TEXT\n",
    ")\n",
    "''')\n",
    "\n",
    "# Create FTS5 virtual table for ner\n",
    "cur.execute('''\n",
    "CREATE VIRTUAL TABLE IF NOT EXISTS recipes_fts \n",
    "USING fts5(ner, content='recipes', content_rowid='id')\n",
    "''')\n",
    "\n",
    "conn.commit()\n",
    "\n",
    "# Insert data in batch\n",
    "batch = df.copy()\n",
    "batch.to_sql('recipes', conn, if_exists='append', index=False)\n",
    "\n",
    "# Insert into FTS table\n",
    "# Get last inserted rowid\n",
    "cursor = conn.execute('SELECT last_insert_rowid()')\n",
    "last_id = cursor.fetchone()[0]\n",
    "first_id = last_id - len(batch) + 1\n",
    "\n",
    "fts_data = [(i + first_id, row['NER']) for i, row in batch.iterrows()]\n",
    "cur.executemany(\"INSERT INTO recipes_fts(rowid, ner) VALUES (?, ?)\", fts_data)\n",
    "conn.commit()\n"
   ]
  },
  {
   "cell_type": "code",
   "execution_count": 9,
   "id": "47f2a0dc",
   "metadata": {},
   "outputs": [
    {
     "data": {
      "text/plain": [
       "[(1,\n",
       "  'No-Bake Nut Cookies',\n",
       "  '[\"1 c. firmly packed brown sugar\", \"1/2 c. evaporated milk\", \"1/2 tsp. vanilla\", \"1/2 c. broken nuts (pecans)\", \"2 Tbsp. butter or margarine\", \"3 1/2 c. bite size shredded rice biscuits\"]',\n",
       "  '[\"In a heavy 2-quart saucepan, mix brown sugar, nuts, evaporated milk and butter or margarine.\", \"Stir over medium heat until mixture bubbles all over top.\", \"Boil and stir 5 minutes more. Take off heat.\", \"Stir in vanilla and cereal; mix well.\", \"Using 2 teaspoons, drop and shape into 30 clusters on wax paper.\", \"Let stand until firm, about 30 minutes.\"]',\n",
       "  'www.cookbooks.com/Recipe-Details.aspx?id=44874',\n",
       "  'Gathered',\n",
       "  'brown_sugar milk vanilla nuts butter bite_size_shredded_rice_biscuits'),\n",
       " (2,\n",
       "  \"Jewell Ball'S Chicken\",\n",
       "  '[\"1 small jar chipped beef, cut up\", \"4 boned chicken breasts\", \"1 can cream of mushroom soup\", \"1 carton sour cream\"]',\n",
       "  '[\"Place chipped beef on bottom of baking dish.\", \"Place chicken on top of beef.\", \"Mix soup and cream together; pour over chicken. Bake, uncovered, at 275\\\\u00b0 for 3 hours.\"]',\n",
       "  'www.cookbooks.com/Recipe-Details.aspx?id=699419',\n",
       "  'Gathered',\n",
       "  'beef chicken_breasts cream_of_mushroom_soup sour_cream'),\n",
       " (3,\n",
       "  'Creamy Corn',\n",
       "  '[\"2 (16 oz.) pkg. frozen corn\", \"1 (8 oz.) pkg. cream cheese, cubed\", \"1/3 c. butter, cubed\", \"1/2 tsp. garlic powder\", \"1/2 tsp. salt\", \"1/4 tsp. pepper\"]',\n",
       "  '[\"In a slow cooker, combine all ingredients. Cover and cook on low for 4 hours or until heated through and cheese is melted. Stir well before serving. Yields 6 servings.\"]',\n",
       "  'www.cookbooks.com/Recipe-Details.aspx?id=10570',\n",
       "  'Gathered',\n",
       "  'frozen_corn cream_cheese butter garlic_powder salt pepper'),\n",
       " (4,\n",
       "  'Chicken Funny',\n",
       "  '[\"1 large whole chicken\", \"2 (10 1/2 oz.) cans chicken gravy\", \"1 (10 1/2 oz.) can cream of mushroom soup\", \"1 (6 oz.) box Stove Top stuffing\", \"4 oz. shredded cheese\"]',\n",
       "  '[\"Boil and debone chicken.\", \"Put bite size pieces in average size square casserole dish.\", \"Pour gravy and cream of mushroom soup over chicken; level.\", \"Make stuffing according to instructions on box (do not make too moist).\", \"Put stuffing on top of chicken and gravy; level.\", \"Sprinkle shredded cheese on top and bake at 350\\\\u00b0 for approximately 20 minutes or until golden and bubbly.\"]',\n",
       "  'www.cookbooks.com/Recipe-Details.aspx?id=897570',\n",
       "  'Gathered',\n",
       "  'chicken chicken_gravy cream_of_mushroom_soup shredded_cheese'),\n",
       " (5,\n",
       "  'Reeses Cups(Candy)  ',\n",
       "  '[\"1 c. peanut butter\", \"3/4 c. graham cracker crumbs\", \"1 c. melted butter\", \"1 lb. (3 1/2 c.) powdered sugar\", \"1 large pkg. chocolate chips\"]',\n",
       "  '[\"Combine first four ingredients and press in 13 x 9-inch ungreased pan.\", \"Melt chocolate chips and spread over mixture. Refrigerate for about 20 minutes and cut into pieces before chocolate gets hard.\", \"Keep in refrigerator.\"]',\n",
       "  'www.cookbooks.com/Recipe-Details.aspx?id=659239',\n",
       "  'Gathered',\n",
       "  'peanut_butter graham_cracker_crumbs butter powdered_sugar chocolate_chips'),\n",
       " (6,\n",
       "  'Cheeseburger Potato Soup',\n",
       "  '[\"6 baking potatoes\", \"1 lb. of extra lean ground beef\", \"2/3 c. butter or margarine\", \"6 c. milk\", \"3/4 tsp. salt\", \"1/2 tsp. pepper\", \"1 1/2 c (6 oz.) shredded Cheddar cheese, divided\", \"12 sliced bacon, cooked, crumbled and divided\", \"4 green onion, chopped and divided\", \"1 (8 oz.) carton sour cream (optional)\"]',\n",
       "  '[\"Wash potatoes; prick several times with a fork.\", \"Microwave them with a wet paper towel covering the potatoes on high for 6-8 minutes.\", \"The potatoes should be soft, ready to eat.\", \"Let them cool enough to handle.\", \"Cut in half lengthwise; scoop out pulp and reserve.\", \"Discard shells.\", \"Brown ground beef until done.\", \"Drain any grease from the meat.\", \"Set aside when done.\", \"Meat will be added later.\", \"Melt butter in a large kettle over low heat; add flour, stirring until smooth.\", \"Cook 1 minute, stirring constantly. Gradually add milk; cook over medium heat, stirring constantly, until thickened and bubbly.\", \"Stir in potato, ground beef, salt, pepper, 1 cup of cheese, 2 tablespoons of green onion and 1/2 cup of bacon.\", \"Cook until heated (do not boil).\", \"Stir in sour cream if desired; cook until heated (do not boil).\", \"Sprinkle with remaining cheese, bacon and green onions.\"]',\n",
       "  'www.cookbooks.com/Recipe-Details.aspx?id=20115',\n",
       "  'Gathered',\n",
       "  'baking_potatoes extra_lean_ground_beef butter milk salt pepper cheddar_cheese bacon green_onion sour_cream'),\n",
       " (7,\n",
       "  'Rhubarb Coffee Cake',\n",
       "  '[\"1 1/2 c. sugar\", \"1/2 c. butter\", \"1 egg\", \"1 c. buttermilk\", \"2 c. flour\", \"1/2 tsp. salt\", \"1 tsp. soda\", \"1 c. buttermilk\", \"2 c. rhubarb, finely cut\", \"1 tsp. vanilla\"]',\n",
       "  '[\"Cream sugar and butter.\", \"Add egg and beat well.\", \"To creamed butter, sugar and egg, add alternately buttermilk with mixture of flour, salt and soda.\", \"Mix well.\", \"Add rhubarb and vanilla.\", \"Pour into greased 9 x 13-inch pan and add Topping.\"]',\n",
       "  'www.cookbooks.com/Recipe-Details.aspx?id=210288',\n",
       "  'Gathered',\n",
       "  'sugar butter egg buttermilk flour salt soda buttermilk rhubarb vanilla'),\n",
       " (8,\n",
       "  'Scalloped Corn',\n",
       "  '[\"1 can cream-style corn\", \"1 can whole kernel corn\", \"1/2 pkg. (approximately 20) saltine crackers, crushed\", \"1 egg, beaten\", \"6 tsp. butter, divided\", \"pepper to taste\"]',\n",
       "  '[\"Mix together both cans of corn, crackers, egg, 2 teaspoons of melted butter and pepper and place in a buttered baking dish.\", \"Dot with remaining 4 teaspoons of butter.\", \"Bake at 350\\\\u00b0 for 1 hour.\"]',\n",
       "  'www.cookbooks.com/Recipe-Details.aspx?id=876969',\n",
       "  'Gathered',\n",
       "  'cream-style_corn whole_kernel_corn crackers egg butter pepper'),\n",
       " (9,\n",
       "  \"Nolan'S Pepper Steak\",\n",
       "  '[\"1 1/2 lb. round steak (1-inch thick), cut into strips\", \"1 can drained tomatoes, cut up (save liquid)\", \"1 3/4 c. water\", \"1/2 c. onions\", \"1 1/2 Tbsp. Worcestershire sauce\", \"2 green peppers, diced\", \"1/4 c. oil\"]',\n",
       "  '[\"Roll steak strips in flour.\", \"Brown in skillet.\", \"Salt and pepper.\", \"Combine tomato liquid, water, onions and browned steak. Cover and simmer for one and a quarter hours.\", \"Uncover and stir in Worcestershire sauce.\", \"Add tomatoes, green peppers and simmer for 5 minutes.\", \"Serve over hot cooked rice.\"]',\n",
       "  'www.cookbooks.com/Recipe-Details.aspx?id=375254',\n",
       "  'Gathered',\n",
       "  'tomatoes water onions worcestershire_sauce green_peppers oil'),\n",
       " (10,\n",
       "  'Millionaire Pie',\n",
       "  '[\"1 large container Cool Whip\", \"1 large can crushed pineapple\", \"1 can condensed milk\", \"3 lemons\", \"1 c. pecans\", \"2 graham cracker crusts\"]',\n",
       "  '[\"Empty Cool Whip into a bowl.\", \"Drain juice from pineapple.\", \"Mix Cool Whip and pineapple.\", \"Add condensed milk.\", \"Squeeze lemons, remove seeds and add to Cool Whip and pineapple.\", \"Chop nuts into small pieces and add to mixture.\", \"Stir all ingredients together and mix well.\", \"Pour into a graham cracker crust.\", \"Use top from crust to cover top of pie.\", \"Chill overnight.\", \"Makes 2 pies.\"]',\n",
       "  'www.cookbooks.com/Recipe-Details.aspx?id=794547',\n",
       "  'Gathered',\n",
       "  'pineapple condensed_milk lemons pecans graham_cracker_crusts')]"
      ]
     },
     "execution_count": 9,
     "metadata": {},
     "output_type": "execute_result"
    }
   ],
   "source": [
    "conn.execute('''\n",
    "             Select * from recipes limit 10\n",
    "             ''').fetchall()"
   ]
  },
  {
   "cell_type": "code",
   "execution_count": 10,
   "id": "c25ddaf1",
   "metadata": {},
   "outputs": [
    {
     "name": "stdout",
     "output_type": "stream",
     "text": [
      "                                              title  \\\n",
      "0                                    Summer Chicken   \n",
      "1                                 French Onion Soup   \n",
      "2                             Smoked Turkey Risotto   \n",
      "3  Zucchini In Tomato Juice(From Weight Watchers)     \n",
      "4                                     Egg Drop Soup   \n",
      "\n",
      "                                         ingredients  \n",
      "0  [\"1 pkg. chicken cutlets\", \"1/2 c. oil\", \"1/3 ...  \n",
      "1  [\"1/4 lb. butter\", \"2 1/2 lb. onions, sliced\",...  \n",
      "2  [\"3 c. chicken stock or vegetable stock\", \"1 p...  \n",
      "3  [\"zucchini\", \"12 oz. tomato juice\", \"dash of o...  \n",
      "4  [\"2 Tbsp. peanut oil\", \"1 c. chopped onion\", \"...  \n"
     ]
    }
   ],
   "source": [
    "query = \"\"\"\n",
    "SELECT r.title, r.ingredients \n",
    "FROM recipes r \n",
    "JOIN recipes_fts f ON r.id = f.rowid \n",
    "WHERE f.ner MATCH 'chicken garlic'\n",
    "LIMIT 5;\n",
    "\"\"\"\n",
    "\n",
    "results = pd.read_sql_query(query, conn)\n",
    "print(results)\n"
   ]
  },
  {
   "cell_type": "code",
   "execution_count": 11,
   "id": "8445fc48",
   "metadata": {},
   "outputs": [
    {
     "name": "stdout",
     "output_type": "stream",
     "text": [
      "   id  parent  notused                                        detail\n",
      "0   3       0        0               SCAN f VIRTUAL TABLE INDEX 0:M0\n",
      "1   8       0        0  SEARCH r USING INTEGER PRIMARY KEY (rowid=?)\n"
     ]
    }
   ],
   "source": [
    "query = \"\"\"\n",
    "EXPLAIN QUERY PLAN\n",
    "SELECT r.title \n",
    "FROM recipes r \n",
    "JOIN recipes_fts f ON r.id = f.rowid \n",
    "WHERE f.ner MATCH 'chicken garlic';\n",
    "\"\"\"\n",
    "\n",
    "plan = pd.read_sql_query(query, conn)\n",
    "print(plan)\n"
   ]
  },
  {
   "cell_type": "code",
   "execution_count": 12,
   "id": "8446b59c",
   "metadata": {},
   "outputs": [
    {
     "name": "stdout",
     "output_type": "stream",
     "text": [
      "(3, 0, 0, 'SCAN f VIRTUAL TABLE INDEX 0:M0')\n",
      "(8, 0, 0, 'SEARCH r USING INTEGER PRIMARY KEY (rowid=?)')\n"
     ]
    }
   ],
   "source": [
    "cursor = conn.execute(\"\"\"\n",
    "EXPLAIN QUERY PLAN\n",
    "SELECT r.title \n",
    "FROM recipes r \n",
    "JOIN recipes_fts f ON r.id = f.rowid \n",
    "WHERE f.ner MATCH 'chicken garlic'\n",
    "\"\"\")\n",
    "for row in cursor.fetchall():\n",
    "    print(row)\n"
   ]
  },
  {
   "cell_type": "code",
   "execution_count": 13,
   "id": "70777f52",
   "metadata": {},
   "outputs": [
    {
     "name": "stdout",
     "output_type": "stream",
     "text": [
      "[('recipes',), ('sqlite_sequence',), ('recipes_fts',), ('recipes_fts_data',), ('recipes_fts_idx',), ('recipes_fts_docsize',), ('recipes_fts_config',)]\n"
     ]
    }
   ],
   "source": [
    "cursor = conn.execute(\"SELECT name FROM sqlite_master WHERE type='table';\")\n",
    "tables = cursor.fetchall()\n",
    "print(tables)\n"
   ]
  }
 ],
 "metadata": {
  "kernelspec": {
   "display_name": ".venv",
   "language": "python",
   "name": "python3"
  },
  "language_info": {
   "codemirror_mode": {
    "name": "ipython",
    "version": 3
   },
   "file_extension": ".py",
   "mimetype": "text/x-python",
   "name": "python",
   "nbconvert_exporter": "python",
   "pygments_lexer": "ipython3",
   "version": "3.12.3"
  }
 },
 "nbformat": 4,
 "nbformat_minor": 5
}
